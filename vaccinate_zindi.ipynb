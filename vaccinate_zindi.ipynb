{
 "cells": [
  {
   "cell_type": "code",
   "execution_count": null,
   "metadata": {},
   "outputs": [],
   "source": [
    "%cd vaccinate_zindi"
   ]
  },
  {
   "cell_type": "code",
   "execution_count": null,
   "metadata": {
    "id": "yzmXovIxUtR2"
   },
   "outputs": [],
   "source": [
    "import os\n",
    "import string\n",
    "import time\n",
    "import numpy as np, pandas as pd\n",
    "\n",
    "import torch\n",
    "import torch.nn as nn\n",
    "import torch.optim as optim\n",
    "import torch.nn.functional as F\n",
    "\n",
    "from torch.autograd import Variable\n",
    "from torchtext.legacy import data\n",
    "\n",
    "import matplotlib.pyplot as plt\n",
    "import seaborn as sns"
   ]
  },
  {
   "cell_type": "code",
   "execution_count": null,
   "metadata": {
    "colab": {
     "base_uri": "https://localhost:8080/",
     "height": 451
    },
    "id": "6PtltsYvVjOq",
    "outputId": "7a28a8b3-df75-407b-98bc-51983df7b08f"
   },
   "outputs": [
    {
     "name": "stdout",
     "output_type": "stream",
     "text": [
      "Label Unique:  [ 0.          1.         -1.                 nan  0.66666667]\n",
      "Agreement Unique [1.         0.66666667 0.33333333        nan]\n",
      "Label Unique:  [ 0  1 -1] 3\n"
     ]
    },
    {
     "data": {
      "text/html": [
       "<div>\n",
       "<style scoped>\n",
       "    .dataframe tbody tr th:only-of-type {\n",
       "        vertical-align: middle;\n",
       "    }\n",
       "\n",
       "    .dataframe tbody tr th {\n",
       "        vertical-align: top;\n",
       "    }\n",
       "\n",
       "    .dataframe thead th {\n",
       "        text-align: right;\n",
       "    }\n",
       "</style>\n",
       "<table border=\"1\" class=\"dataframe\">\n",
       "  <thead>\n",
       "    <tr style=\"text-align: right;\">\n",
       "      <th></th>\n",
       "      <th>tweet_id</th>\n",
       "      <th>safe_text</th>\n",
       "      <th>label</th>\n",
       "      <th>agreement</th>\n",
       "    </tr>\n",
       "  </thead>\n",
       "  <tbody>\n",
       "    <tr>\n",
       "      <th>0</th>\n",
       "      <td>CL1KWCMY</td>\n",
       "      <td>Me &amp;amp; The Big Homie meanboy3000 #MEANBOY #M...</td>\n",
       "      <td>0</td>\n",
       "      <td>1.0</td>\n",
       "    </tr>\n",
       "    <tr>\n",
       "      <th>1</th>\n",
       "      <td>E3303EME</td>\n",
       "      <td>I'm 100% thinking of devoting my career to pro...</td>\n",
       "      <td>1</td>\n",
       "      <td>1.0</td>\n",
       "    </tr>\n",
       "    <tr>\n",
       "      <th>2</th>\n",
       "      <td>M4IVFSMS</td>\n",
       "      <td>#whatcausesautism VACCINES, DO NOT VACCINATE Y...</td>\n",
       "      <td>-1</td>\n",
       "      <td>1.0</td>\n",
       "    </tr>\n",
       "    <tr>\n",
       "      <th>3</th>\n",
       "      <td>1DR6ROZ4</td>\n",
       "      <td>I mean if they immunize my kid with something ...</td>\n",
       "      <td>-1</td>\n",
       "      <td>1.0</td>\n",
       "    </tr>\n",
       "    <tr>\n",
       "      <th>4</th>\n",
       "      <td>J77ENIIE</td>\n",
       "      <td>Thanks to &lt;user&gt; Catch me performing at La Nui...</td>\n",
       "      <td>0</td>\n",
       "      <td>1.0</td>\n",
       "    </tr>\n",
       "  </tbody>\n",
       "</table>\n",
       "</div>"
      ],
      "text/plain": [
       "   tweet_id  ... agreement\n",
       "0  CL1KWCMY  ...       1.0\n",
       "1  E3303EME  ...       1.0\n",
       "2  M4IVFSMS  ...       1.0\n",
       "3  1DR6ROZ4  ...       1.0\n",
       "4  J77ENIIE  ...       1.0\n",
       "\n",
       "[5 rows x 4 columns]"
      ]
     },
     "metadata": {
      "tags": []
     },
     "output_type": "display_data"
    },
    {
     "name": "stdout",
     "output_type": "stream",
     "text": [
      "max length:  33\n",
      "aggrement unique:  3\n"
     ]
    },
    {
     "data": {
      "text/html": [
       "<div>\n",
       "<style scoped>\n",
       "    .dataframe tbody tr th:only-of-type {\n",
       "        vertical-align: middle;\n",
       "    }\n",
       "\n",
       "    .dataframe tbody tr th {\n",
       "        vertical-align: top;\n",
       "    }\n",
       "\n",
       "    .dataframe thead th {\n",
       "        text-align: right;\n",
       "    }\n",
       "</style>\n",
       "<table border=\"1\" class=\"dataframe\">\n",
       "  <thead>\n",
       "    <tr style=\"text-align: right;\">\n",
       "      <th></th>\n",
       "      <th>tweet_id</th>\n",
       "      <th>label</th>\n",
       "    </tr>\n",
       "  </thead>\n",
       "  <tbody>\n",
       "    <tr>\n",
       "      <th>0</th>\n",
       "      <td>00BHHHP1</td>\n",
       "      <td>0</td>\n",
       "    </tr>\n",
       "    <tr>\n",
       "      <th>1</th>\n",
       "      <td>00UNMD0E</td>\n",
       "      <td>0</td>\n",
       "    </tr>\n",
       "    <tr>\n",
       "      <th>2</th>\n",
       "      <td>01AXPTJF</td>\n",
       "      <td>0</td>\n",
       "    </tr>\n",
       "    <tr>\n",
       "      <th>3</th>\n",
       "      <td>01HOEQJW</td>\n",
       "      <td>0</td>\n",
       "    </tr>\n",
       "    <tr>\n",
       "      <th>4</th>\n",
       "      <td>01JUKMAO</td>\n",
       "      <td>0</td>\n",
       "    </tr>\n",
       "  </tbody>\n",
       "</table>\n",
       "</div>"
      ],
      "text/plain": [
       "   tweet_id  label\n",
       "0  00BHHHP1      0\n",
       "1  00UNMD0E      0\n",
       "2  01AXPTJF      0\n",
       "3  01HOEQJW      0\n",
       "4  01JUKMAO      0"
      ]
     },
     "metadata": {
      "tags": []
     },
     "output_type": "display_data"
    }
   ],
   "source": [
    "Train = pd.read_csv('Train.csv')\n",
    "print('Label Unique: ',Train.label.unique())\n",
    "print('Agreement Unique' , Train.agreement.unique())\n",
    "Train = Train.dropna()\n",
    "Train.label = Train.label.astype('int')\n",
    "print('Label Unique: ',Train.label.unique(), Train.label.nunique())\n",
    "\n",
    "Test = pd.read_csv('Test.csv')\n",
    "sub = pd.read_csv('SampleSubmission.csv')\n",
    "\n",
    "s = int(len(Train) * 0.2)\n",
    "Train[['safe_text', 'label']][s:].to_csv('train_work.csv', index = False)\n",
    "Train[['safe_text', 'label']][:s].to_csv('valid_work.csv', index = False)\n",
    "Test[['safe_text']].to_csv('test_work.csv', index = False)\n",
    "\n",
    "display(Train.head())\n",
    "print('max length: ', max([len(row.split()) for row in Train.safe_text]))\n",
    "print('aggrement unique: ', Train.agreement.nunique())\n",
    "display(sub.head())"
   ]
  },
  {
   "cell_type": "code",
   "execution_count": null,
   "metadata": {
    "id": "byuTuvnzVy8r"
   },
   "outputs": [],
   "source": [
    "tokenizer = lambda x: str(x).translate(str.maketrans('', '', string.punctuation)).strip().split()\n",
    "TEXT = data.Field(sequential = True, include_lengths=True, batch_first=True ,tokenize = tokenizer, fix_length = 100)\n",
    "LABEL = data.Field(sequential = False, use_vocab = False, unk_token=None)\n",
    "fields = [('safe_text', TEXT), ('label', LABEL)]\n",
    "BATCH_SIZE = 64\n",
    "\n",
    "train, valid, test = data.TabularDataset.splits(path = './', train= 'train_work.csv',\n",
    "                                                validation = 'valid_work.csv', test = 'test_work.csv',\n",
    "                                                format = 'csv', fields = fields, skip_header = True )\n",
    "\n",
    "TEXT.build_vocab(train, max_size = 30_000)\n",
    "LABEL.build_vocab(train)\n",
    "device = torch.device('cuda:0' if torch.cuda.is_available() else 'cpu')\n",
    "#train_iter, valid_iter, test_iter = data.BucketIterator.splits((train, valid, test), batch_size = BATCH_SIZE)\n",
    "\n",
    "#iterator\n",
    "train_iter = data.BucketIterator(train, device= device, batch_size= BATCH_SIZE, \n",
    "                                  sort_key=lambda x: len(x.safe_text), sort_within_batch = True, repeat = False, shuffle = True)\n",
    "valid_iter = data.BucketIterator(valid, device = device, batch_size =BATCH_SIZE, shuffle = True,\n",
    "                                  sort_key=lambda x:len(x.safe_text), sort_within_batch = True, repeat = False)\n",
    "test_iter = data.BucketIterator(test, device = device, batch_size =1, sort_key = lambda x: len(x.safe_text),\n",
    "                                sort_within_batch= True, repeat = False)\n"
   ]
  },
  {
   "cell_type": "code",
   "execution_count": null,
   "metadata": {
    "colab": {
     "base_uri": "https://localhost:8080/"
    },
    "id": "EKLdlQM1b5SB",
    "outputId": "9ff4f3cb-7eab-43a7-c16f-bb6b1ab1d7a6"
   },
   "outputs": [
    {
     "name": "stdout",
     "output_type": "stream",
     "text": [
      "defaultdict(None, {'0': 0, '1': 1, '-1': 2})\n"
     ]
    },
    {
     "data": {
      "text/plain": [
       "[('user', 3849), ('url', 3700), ('to', 2727), ('the', 2717), ('measles', 1995)]"
      ]
     },
     "execution_count": 54,
     "metadata": {
      "tags": []
     },
     "output_type": "execute_result"
    }
   ],
   "source": [
    "#TEXT.vocab.stoi\n",
    "#TEXT.vocab.itos\n",
    "print(LABEL.vocab.stoi)\n",
    "TEXT.vocab.freqs.most_common(5)"
   ]
  },
  {
   "cell_type": "code",
   "execution_count": null,
   "metadata": {
    "id": "-yQM9NeIc8mD"
   },
   "outputs": [],
   "source": [
    "# first model\n",
    "\n",
    "class GRU(nn.Module):\n",
    "    def __init__(self, vocab_size,embedding_dim, hidden_size, output_size, n_layers=1, dropout=0.1):\n",
    "        super(GRU, self).__init__()\n",
    "        \n",
    "    \n",
    "        self.vocab_size = vocab_size\n",
    "        self.embedding_dim = embedding_dim\n",
    "        self.hidden_size = hidden_size\n",
    "        self.n_layers = n_layers\n",
    "        self.output_size = output_size\n",
    "        \n",
    "        self.embedding = nn.Embedding(self.vocab_size, self.embedding_dim)\n",
    "        self.dropout = nn.Dropout(dropout)\n",
    "        self.gru = nn.GRU(self.embedding_dim, self.hidden_size, self.n_layers, \n",
    "                          dropout=(0 if n_layers ==1 else dropout), bidirectional=True)#batch_first = True,\n",
    "        self.lin = nn.Linear(self.hidden_size * 2, self.output_size)\n",
    "        \n",
    "    def forward(self, input_seqs, input_lengths):\n",
    "        embedded = self.dropout(self.embedding(input_seqs)) #[batch_size, seq_len, emb_dim]\n",
    "        packed = torch.nn.utils.rnn.pack_padded_sequence(embedded, input_lengths, enforce_sorted=True, batch_first=True)\n",
    "        outputs, hidden = self.gru(packed)\n",
    "        outputs, output_lengths = torch.nn.utils.rnn.pad_packed_sequence(outputs) # unpack (back to padded)\n",
    "        #output -- [batch_siize, seq_len, hid_dim * n_directions]\n",
    "        #hidden --- [n_layers* n_directions, batch_size, hid_dim]\n",
    "        #sum through n_directions\n",
    "        out = torch.cat((hidden[-2,:, :], hidden[-1, :, :]), dim =1)  # Sum bidirectional outputs\n",
    "        #out -- [batch_size, hid_dim * n_directions]\n",
    "        out = self.dropout(self.lin(out))\n",
    "        #out -- [batch_size, output_size]\n",
    "        return F.tanh(out)\n",
    "\n",
    "        "
   ]
  },
  {
   "cell_type": "code",
   "execution_count": null,
   "metadata": {
    "id": "gbabJCgDqmG6"
   },
   "outputs": [],
   "source": [
    "# model 2\n",
    "\n",
    "# first model\n",
    "\n",
    "class LSTM(nn.Module):\n",
    "    def __init__(self, vocab_size,embedding_dim, hidden_size, output_size, n_layers=1, dropout=0.1):\n",
    "        super(LSTM, self).__init__()\n",
    "        \n",
    "    \n",
    "        self.vocab_size = vocab_size\n",
    "        self.embedding_dim = embedding_dim\n",
    "        self.hidden_size = hidden_size\n",
    "        self.n_layers = n_layers\n",
    "        self.output_size = output_size\n",
    "        \n",
    "        self.embedding = nn.Embedding(self.vocab_size, self.embedding_dim)\n",
    "        self.dropout = nn.Dropout(dropout)\n",
    "        self.lstm = nn.LSTM(self.embedding_dim, self.hidden_size, self.n_layers, \n",
    "                          dropout=(0 if n_layers ==1 else dropout), bidirectional=True)#batch_first = True,\n",
    "        self.lin = nn.Linear(self.hidden_size * 2, self.output_size)\n",
    "        \n",
    "    def forward(self, input_seqs, input_lengths):\n",
    "        embedded = self.dropout(self.embedding(input_seqs)) #[batch_size, seq_len, emb_dim]\n",
    "        packed = torch.nn.utils.rnn.pack_padded_sequence(embedded, input_lengths, enforce_sorted=True, batch_first=True)\n",
    "        outputs, (hidden, cell) = self.lstm(packed)\n",
    "        outputs, output_lengths = torch.nn.utils.rnn.pad_packed_sequence(outputs) # unpack (back to padded)\n",
    "        #sum through n_directions\n",
    "        out = torch.cat((hidden[-2,:, :], hidden[-1, :, :]), dim =1)  # Sum bidirectional outputs\n",
    "        #out -- [batch_size, hid_dim * n_directions]\n",
    "        out = self.dropout(self.lin(out))\n",
    "        #out -- [batch_size, output_size]\n",
    "        return F.tanh(out)\n",
    "        "
   ]
  },
  {
   "cell_type": "code",
   "execution_count": null,
   "metadata": {
    "id": "Fb5wyDkAcsy2"
   },
   "outputs": [],
   "source": [
    "#model\n",
    "\n",
    "class BiGRU(nn.Module):\n",
    "  def __init__(self, hidden_size, vocab_size, embedding_dim, output_size, n_layers=1, dropout = 0.2,\n",
    "                bidirectional = True):\n",
    "      super(BiGRU, self).__init__()\n",
    "\n",
    "      self.hidden_size = hidden_size\n",
    "      self.vocab_size = vocab_size\n",
    "      self.embedding_dim = embedding_dim\n",
    "      self.output_size = output_size\n",
    "      self.n_layers = n_layers\n",
    "      self.dropout = dropout\n",
    "      self.bidirectional = bidirectional\n",
    "      self.n_directions = 2 #if self.bidirectional else 1\n",
    "\n",
    "      self.embedding = nn.Embedding(self.vocab_size, self.embedding_dim)\n",
    "      self.dropout = nn.Dropout(self.dropout)\n",
    "      self.gru = nn.GRU(self.embedding_dim, self.hidden_size, num_layers = self.n_layers, \n",
    "                        dropout =(0 if n_layers ==1 else dropout), batch_first = True, \n",
    "                        bidirectional = self.bidirectional)\n",
    "      self.lin = nn.Linear(self.hidden_size * 3, self.output_size)\n",
    "\n",
    "  def forward(self, input_seq, input_length, hidden = None):\n",
    "      self.batch_size = input_seq.size(0) # [batch_size, seq_length]\n",
    "      emb_out = self.embedding(input_seq) # [batch_size, seq_length, embedding_dim]\n",
    "      out = self.dropout(emb_out)\n",
    "\n",
    "      #pack padded batch # []\n",
    "      packed_out = nn.utils.rnn.pack_padded_sequence(out, input_length, enforce_sorted=True, batch_first=True)\n",
    "      # [batch_size, seq_length, hidden_size * num_directions]\n",
    "      #hidden is zero if not provided\n",
    "      gru_out, hidden = self.gru(packed_out, hidden)\n",
    "      #bidirection GRU; is the sum of forward and backward GRU representation\n",
    "      #Work on hidden shape\n",
    "      hidden = hidden.view(self.n_layers, self.n_directions, self.batch_size, self.hidden_size)\n",
    "      last_hidden = hidden[-1]\n",
    "      last_hidden = torch.sum(last_hidden, dim=0) # [batch_size, hidden_size]\n",
    "      gru_out, lengths = nn.utils.rnn.pad_packed_sequence(gru_out, batch_first=True)\n",
    "      # [batch_size, seq_length, hidden_state * n_directions]\n",
    "      # Sum the gru_out along the num_directions\n",
    "      if self.bidirectional:\n",
    "          gru_out = gru_out[:, :, :self.hidden_size] + gru_out[:,:, self.hidden_size:] # sum bidirectional output\n",
    "      max_pool = F.adaptive_max_pool1d(gru_out.permute(0,2,1), (1,)).view(self.batch_size, -1)\n",
    "      avg_pool = torch.sum(gru_out, dim =1) / lengths.view(-1,1).type(torch.FloatTensor)\n",
    "      concat = torch.cat([last_hidden, max_pool, avg_pool], dim =1)\n",
    "      out = self.lin(concat)\n",
    "      return F.tanh(out)\n"
   ]
  },
  {
   "cell_type": "code",
   "execution_count": null,
   "metadata": {
    "id": "MjBQVgxev1Bx"
   },
   "outputs": [],
   "source": [
    "class RMSELoss(nn.Module):\n",
    "    def __init__(self):\n",
    "      super().__init__()\n",
    "      self.mse = nn.MSELoss()\n",
    "\n",
    "    def forward(self, yhat, y):\n",
    "      return torch.sqrt(self.mse(yhat, y))"
   ]
  },
  {
   "cell_type": "code",
   "execution_count": null,
   "metadata": {
    "id": "nV7ycXNMuKwd"
   },
   "outputs": [],
   "source": [
    "vocab_size = len(TEXT.vocab)\n",
    "hidden_size = 356\n",
    "embedding_dim = 150\n",
    "output_size = 1\n",
    "n_layers=3\n",
    "dropout = 0.6\n",
    "learning_rate = 0.000001 #0.000001 \n",
    "epochs = 50\n",
    "\n",
    "model1 = GRU(vocab_size,embedding_dim, hidden_size, output_size, n_layers, dropout)\n",
    "criterion1 = nn.MSELoss()\n",
    "optimizer1 = optim.Adam(model1.parameters(), lr =learning_rate)\n",
    "\n",
    "model2 = LSTM(vocab_size,embedding_dim, hidden_size, output_size, n_layers, dropout)\n",
    "criterion2 = nn.MSELoss()\n",
    "optimizer2 = optim.Adam(model2.parameters(), lr =learning_rate)\n",
    "\n",
    "model = BiGRU(hidden_size, vocab_size, embedding_dim, output_size, n_layers, dropout,\n",
    "               bidirectional = True)\n",
    "#criterion = RMSELoss()\n",
    "criterion = nn.MSELoss()\n",
    "optimizer = optim.Adam(model.parameters(), lr =learning_rate)\n",
    "\n",
    "#device = torch.device('cuda:0' if torch.cuda.is_available() else 'cpu')\n",
    "#model.to(device)\n"
   ]
  },
  {
   "cell_type": "code",
   "execution_count": null,
   "metadata": {
    "id": "n_scN9vZbnLI"
   },
   "outputs": [],
   "source": [
    "#pretrained_embeddings = TEXT.vocab.vectors\n",
    "#model.embedding.weight.data.copy_(pretrained_embeddings)\n",
    "\n",
    "PAD_IDX = TEXT.vocab.stoi[TEXT.pad_token]\n",
    "UNK_IDX = TEXT.vocab.stoi[TEXT.unk_token]\n",
    "model.embedding.weight.data[UNK_IDX] = torch.zeros(embedding_dim)\n",
    "model.embedding.weight.data[PAD_IDX] = torch.zeros(embedding_dim)"
   ]
  },
  {
   "cell_type": "code",
   "execution_count": null,
   "metadata": {
    "id": "3ua5fbP8xOTx"
   },
   "outputs": [],
   "source": [
    "def categorical_accuracy(preds, y):\n",
    "    '''Returns accuracy per batch, if 9/10, it returns 0.9'''\n",
    "    top_pred = preds.argmax(1, keepdim = True)\n",
    "    correct = top_pred.eq(y.view_as(top_pred)).sum()\n",
    "    acc = correct.float() / y.shape[0]\n",
    "    return acc"
   ]
  },
  {
   "cell_type": "code",
   "execution_count": null,
   "metadata": {
    "id": "13aLR3xlxPhT"
   },
   "outputs": [],
   "source": [
    "def train(model, iterator, optimizer, criterion):\n",
    "    epoch_loss =0\n",
    "    epoch_acc = 0\n",
    "    model.train()\n",
    "    for batch in iterator:\n",
    "        optimizer.zero_grad()\n",
    "        text, input_length = batch.safe_text\n",
    "        out = model(text, input_length).squeeze(1)\n",
    "        loss = criterion(out.float(), batch.label.float())\n",
    "        #acc = categorical_accuracy(out, batch.label)\n",
    "        loss.backward()\n",
    "        optimizer.step()\n",
    "        epoch_loss += loss.item()\n",
    "        #epoch_acc += acc.item()\n",
    "\n",
    "    return epoch_loss / len(iterator) #epoch_acc / len(iterator)"
   ]
  },
  {
   "cell_type": "code",
   "execution_count": null,
   "metadata": {
    "id": "mQvtJLInxSfS"
   },
   "outputs": [],
   "source": [
    "def evaluate(model, iterator, criterion):\n",
    "    epoch_loss =0\n",
    "    epoch_acc =0\n",
    "    model.eval()\n",
    "    with torch.no_grad():\n",
    "        for batch in iterator:\n",
    "            text, input_length = batch.safe_text\n",
    "            out = model(text, input_length)\n",
    "            loss = criterion(out.float(), batch.label.float())\n",
    "            #acc = categorical_accuracy(out, batch.label)\n",
    "            epoch_loss += loss.item()\n",
    "            #epoch_acc += acc.item()\n",
    "\n",
    "    return epoch_loss / len(iterator) #epoch_acc / len(iterator)"
   ]
  },
  {
   "cell_type": "code",
   "execution_count": null,
   "metadata": {
    "id": "mCfgE490fGVS"
   },
   "outputs": [],
   "source": [
    "def epoch_time(start_time, end_time):\n",
    "    elapsed_time = end_time - start_time\n",
    "    elapsed_mins = int(elapsed_time / 60)\n",
    "    elapsed_secs = int(elapsed_time - (elapsed_mins *60))\n",
    "    return elapsed_mins, elapsed_secs"
   ]
  },
  {
   "cell_type": "code",
   "execution_count": null,
   "metadata": {
    "id": "OLHf6rfJfHWq"
   },
   "outputs": [],
   "source": [
    "n_epochs = 10\n",
    "start_iter = 1\n",
    "best_valid_loss = float('inf')\n",
    "\n",
    "checkpointm1 = False\n",
    "if checkpointm1:\n",
    "    checkpoint = torch.load('checkpoint_vaccinate_model1.tar')  \n",
    "    m = checkpoint['model']\n",
    "    model1.load_state_dict(m)\n",
    "    start_iter = checkpoint['iterator']\n",
    "    best_valid_loss = checkpoint['loss']\n",
    "\n",
    "\n",
    "checkpointm2 = False\n",
    "if checkpointm2:\n",
    "    checkpoint = torch.load('checkpoint_vaccinate_model2.tar')  \n",
    "    m = checkpoint['model']\n",
    "    model2.load_state_dict(m)\n",
    "    start_iter = checkpoint['iterator']\n",
    "    best_valid_loss = checkpoint['loss']\n",
    "\n",
    "\n",
    "checkpointm = False\n",
    "if checkpointm1:\n",
    "    checkpoint = torch.load('checkpoint_vaccinate.tar')  \n",
    "    m = checkpoint['model']\n",
    "    model.load_state_dict(m)\n",
    "    start_iter = checkpoint['iterator']\n",
    "    best_valid_loss = checkpoint['loss']\n"
   ]
  },
  {
   "cell_type": "code",
   "execution_count": null,
   "metadata": {
    "colab": {
     "base_uri": "https://localhost:8080/"
    },
    "id": "w25jJhi4fHI8",
    "outputId": "968ebbab-3f9e-4fb9-fea3-0643c65fd01b"
   },
   "outputs": [
    {
     "name": "stderr",
     "output_type": "stream",
     "text": [
      "/usr/local/lib/python3.7/dist-packages/torch/nn/functional.py:1698: UserWarning: nn.functional.tanh is deprecated. Use torch.tanh instead.\n",
      "  warnings.warn(\"nn.functional.tanh is deprecated. Use torch.tanh instead.\")\n",
      "/usr/local/lib/python3.7/dist-packages/torch/nn/modules/loss.py:528: UserWarning: Using a target size (torch.Size([64])) that is different to the input size (torch.Size([64, 1])). This will likely lead to incorrect results due to broadcasting. Please ensure they have the same size.\n",
      "  return F.mse_loss(input, target, reduction=self.reduction)\n",
      "/usr/local/lib/python3.7/dist-packages/torch/nn/modules/loss.py:528: UserWarning: Using a target size (torch.Size([15])) that is different to the input size (torch.Size([15, 1])). This will likely lead to incorrect results due to broadcasting. Please ensure they have the same size.\n",
      "  return F.mse_loss(input, target, reduction=self.reduction)\n"
     ]
    },
    {
     "name": "stdout",
     "output_type": "stream",
     "text": [
      "Epoch: 01 | Epoch Time 1m 59s\n",
      "\t Train Loss:  0.519 |  Val Loss:  0.514\n",
      "Epoch: 02 | Epoch Time 1m 58s\n",
      "\t Train Loss:  0.515 |  Val Loss:  0.508\n",
      "Epoch: 03 | Epoch Time 1m 58s\n",
      "\t Train Loss:  0.510 |  Val Loss:  0.502\n",
      "Epoch: 04 | Epoch Time 1m 58s\n",
      "\t Train Loss:  0.508 |  Val Loss:  0.501\n",
      "Epoch: 05 | Epoch Time 1m 58s\n",
      "\t Train Loss:  0.505 |  Val Loss:  0.496\n",
      "Epoch: 06 | Epoch Time 1m 58s\n",
      "\t Train Loss:  0.500 |  Val Loss:  0.492\n",
      "Epoch: 07 | Epoch Time 1m 59s\n",
      "\t Train Loss:  0.498 |  Val Loss:  0.489\n",
      "Epoch: 08 | Epoch Time 1m 59s\n",
      "\t Train Loss:  0.494 |  Val Loss:  0.485\n",
      "Epoch: 09 | Epoch Time 1m 59s\n",
      "\t Train Loss:  0.488 |  Val Loss:  0.482\n",
      "Epoch: 10 | Epoch Time 1m 58s\n",
      "\t Train Loss:  0.485 |  Val Loss:  0.479\n"
     ]
    }
   ],
   "source": [
    "#model\n",
    "\n",
    "train_losses = []\n",
    "valid_losses = []\n",
    "train_accs = []\n",
    "valid_accs = []\n",
    "\n",
    "for epoch in range(start_iter, n_epochs+start_iter):\n",
    "    start_time = time.time()\n",
    "\n",
    "    train_loss = train(model, train_iter, optimizer, criterion)\n",
    "    valid_loss = evaluate(model, valid_iter, criterion)\n",
    "\n",
    "    end_time = time.time()\n",
    "    epoch_mins, epoch_secs = epoch_time(start_time, end_time)\n",
    "\n",
    "    if valid_loss < best_valid_loss:\n",
    "        best_valid_loss = valid_loss\n",
    "        torch.save({'model': model.state_dict(), 'iterator': epoch, 'loss': best_valid_loss}, 'checkpoint_vaccinate.tar')\n",
    "\n",
    "    train_losses.append(train_loss)\n",
    "    valid_losses.append(valid_loss)\n",
    "\n",
    "    print(f'Epoch: {epoch:02} | Epoch Time {epoch_mins}m {epoch_secs}s')\n",
    "    print(f'\\t Train Loss: {train_loss: .3f} |  Val Loss: {valid_loss: .3f}')\n",
    "   # print(f'\\t  Train Acc: {train_acc * 100: .2f}% | Val Acc: {valid_acc * 100:.2f}%')"
   ]
  },
  {
   "cell_type": "code",
   "execution_count": null,
   "metadata": {
    "colab": {
     "base_uri": "https://localhost:8080/",
     "height": 298
    },
    "id": "cm3VtMjnfBHk",
    "outputId": "1776582b-9079-424c-ff76-5ca675baf303"
   },
   "outputs": [
    {
     "data": {
      "text/plain": [
       "<matplotlib.legend.Legend at 0x7fc4087f7350>"
      ]
     },
     "execution_count": 101,
     "metadata": {
      "tags": []
     },
     "output_type": "execute_result"
    },
    {
     "data": {
      "image/png": "[encoded data removed]",
      "text/plain": [
       "<Figure size 432x288 with 1 Axes>"
      ]
     },
     "metadata": {
      "tags": []
     },
     "output_type": "display_data"
    }
   ],
   "source": [
    "fig, ax = plt.subplots()\n",
    "#ax.plot(train_accs, label ='train_accs')\n",
    "#ax.plot(valid_accs, label ='valid_accs')\n",
    "ax.plot(train_losses, label = 'train_losses' )\n",
    "ax.plot(valid_losses, label = 'valid_losses')\n",
    "ax.set_title('Model0 lr -- 0.000001')\n",
    "ax.legend()"
   ]
  },
  {
   "cell_type": "code",
   "execution_count": null,
   "metadata": {
    "colab": {
     "base_uri": "https://localhost:8080/",
     "height": 298
    },
    "id": "RbKJJvBTLl0_",
    "outputId": "1b8af719-a582-4de6-aea0-8f6fd9df502d"
   },
   "outputs": [
    {
     "data": {
      "text/plain": [
       "<matplotlib.legend.Legend at 0x7fc40898e650>"
      ]
     },
     "execution_count": 103,
     "metadata": {
      "tags": []
     },
     "output_type": "execute_result"
    },
    {
     "data": {
      "image/png": "[encoded data removed]",
      "text/plain": [
       "<Figure size 432x288 with 1 Axes>"
      ]
     },
     "metadata": {
      "tags": []
     },
     "output_type": "display_data"
    }
   ],
   "source": [
    "fig, ax = plt.subplots()\n",
    "#ax.plot(train_accs, label ='train_accs')\n",
    "#ax.plot(valid_accs, label ='valid_accs')\n",
    "ax.plot(train_losses, label = 'train_losses' )\n",
    "ax.plot(valid_losses, label = 'valid_losses')\n",
    "ax.set_title('Model0 lr -- 0.0000001')\n",
    "ax.legend()"
   ]
  },
  {
   "cell_type": "code",
   "execution_count": null,
   "metadata": {
    "colab": {
     "base_uri": "https://localhost:8080/"
    },
    "id": "AljVVZpMfG9m",
    "outputId": "26878510-36f2-42c4-eb70-5649f5c4537d"
   },
   "outputs": [
    {
     "name": "stderr",
     "output_type": "stream",
     "text": [
      "/usr/local/lib/python3.7/dist-packages/torch/nn/modules/loss.py:528: UserWarning: Using a target size (torch.Size([64])) that is different to the input size (torch.Size([64, 1])). This will likely lead to incorrect results due to broadcasting. Please ensure they have the same size.\n",
      "  return F.mse_loss(input, target, reduction=self.reduction)\n",
      "/usr/local/lib/python3.7/dist-packages/torch/nn/modules/loss.py:528: UserWarning: Using a target size (torch.Size([15])) that is different to the input size (torch.Size([15, 1])). This will likely lead to incorrect results due to broadcasting. Please ensure they have the same size.\n",
      "  return F.mse_loss(input, target, reduction=self.reduction)\n"
     ]
    },
    {
     "name": "stdout",
     "output_type": "stream",
     "text": [
      "Epoch: 01 | Epoch Time 1m 57s\n",
      "\t Train Loss:  0.536 |  Val Loss:  0.506\n",
      "Epoch: 02 | Epoch Time 1m 57s\n",
      "\t Train Loss:  0.538 |  Val Loss:  0.502\n",
      "Epoch: 03 | Epoch Time 1m 57s\n",
      "\t Train Loss:  0.536 |  Val Loss:  0.500\n",
      "Epoch: 04 | Epoch Time 1m 56s\n",
      "\t Train Loss:  0.531 |  Val Loss:  0.499\n",
      "Epoch: 05 | Epoch Time 1m 56s\n",
      "\t Train Loss:  0.534 |  Val Loss:  0.499\n",
      "Epoch: 06 | Epoch Time 1m 58s\n",
      "\t Train Loss:  0.532 |  Val Loss:  0.496\n",
      "Epoch: 07 | Epoch Time 1m 58s\n",
      "\t Train Loss:  0.527 |  Val Loss:  0.495\n",
      "Epoch: 08 | Epoch Time 1m 58s\n",
      "\t Train Loss:  0.526 |  Val Loss:  0.493\n",
      "Epoch: 09 | Epoch Time 1m 59s\n",
      "\t Train Loss:  0.523 |  Val Loss:  0.489\n",
      "Epoch: 10 | Epoch Time 1m 59s\n",
      "\t Train Loss:  0.524 |  Val Loss:  0.488\n"
     ]
    }
   ],
   "source": [
    "#model1\n",
    "\n",
    "train_losses = []\n",
    "valid_losses = []\n",
    "\n",
    "for epoch in range(start_iter, n_epochs+start_iter):\n",
    "    start_time = time.time()\n",
    "\n",
    "    train_loss = train(model1, train_iter, optimizer1, criterion1)\n",
    "    valid_loss = evaluate(model1, valid_iter, criterion1)\n",
    "\n",
    "    end_time = time.time()\n",
    "    epoch_mins, epoch_secs = epoch_time(start_time, end_time)\n",
    "\n",
    "    if valid_loss < best_valid_loss:\n",
    "        best_valid_loss = valid_loss\n",
    "        torch.save({'model': model.state_dict(), 'iterator': epoch, 'loss': best_valid_loss}, 'checkpoint_vaccinate_model1.tar')\n",
    "\n",
    "    train_losses.append(train_loss)\n",
    "    valid_losses.append(valid_loss)\n",
    "\n",
    "    print(f'Epoch: {epoch:02} | Epoch Time {epoch_mins}m {epoch_secs}s')\n",
    "    print(f'\\t Train Loss: {train_loss: .3f} |  Val Loss: {valid_loss: .3f}')\n",
    "   # print(f'\\t  Train Acc: {train_acc * 100: .2f}% | Val Acc: {valid_acc * 100:.2f}%')"
   ]
  },
  {
   "cell_type": "code",
   "execution_count": null,
   "metadata": {
    "colab": {
     "base_uri": "https://localhost:8080/",
     "height": 298
    },
    "id": "Y2UXLv0HfGhv",
    "outputId": "15e33ad0-ad4f-4c79-9767-eb001ad87333"
   },
   "outputs": [
    {
     "data": {
      "text/plain": [
       "<matplotlib.legend.Legend at 0x7fc40890bb50>"
      ]
     },
     "execution_count": 112,
     "metadata": {
      "tags": []
     },
     "output_type": "execute_result"
    },
    {
     "data": {
      "image/png": "[encoded data removed]",
      "text/plain": [
       "<Figure size 432x288 with 1 Axes>"
      ]
     },
     "metadata": {
      "tags": []
     },
     "output_type": "display_data"
    }
   ],
   "source": [
    "fig, ax = plt.subplots()\n",
    "#ax.plot(train_accs, label ='train_accs')\n",
    "#ax.plot(valid_accs, label ='valid_accs')\n",
    "ax.plot(train_losses, label = 'train_losses' )\n",
    "ax.plot(valid_losses, label = 'valid_losses')\n",
    "ax.set_title('Model1 lr -- 0.000001')\n",
    "ax.legend()"
   ]
  },
  {
   "cell_type": "code",
   "execution_count": null,
   "metadata": {
    "colab": {
     "base_uri": "https://localhost:8080/"
    },
    "id": "0xI9hkOaTVzM",
    "outputId": "21db30fd-f9a2-46e0-c813-7a5d9341f9a4"
   },
   "outputs": [
    {
     "data": {
      "text/plain": [
       "<matplotlib.legend.Legend at 0x7fc408aed610>"
      ]
     },
     "execution_count": 116,
     "metadata": {
      "tags": []
     },
     "output_type": "execute_result"
    },
    {
     "data": {
      "image/png": "[encoded data removed]",
      "text/plain": [
       "<Figure size 432x288 with 1 Axes>"
      ]
     },
     "metadata": {
      "tags": []
     },
     "output_type": "display_data"
    }
   ],
   "source": [
    "fig, ax = plt.subplots()\n",
    "#ax.plot(train_accs, label ='train_accs')\n",
    "#ax.plot(valid_accs, label ='valid_accs')\n",
    "ax.plot(train_losses, label = 'train_losses' )\n",
    "ax.plot(valid_losses, label = 'valid_losses')\n",
    "ax.set_title('Model1 lr -- 0.0000001')\n",
    "ax.legend()"
   ]
  },
  {
   "cell_type": "code",
   "execution_count": null,
   "metadata": {
    "colab": {
     "background_save": true,
     "base_uri": "https://localhost:8080/"
    },
    "id": "8BxKECtjqK4I",
    "outputId": "95f150ad-4424-4989-df90-415d6ab58cba"
   },
   "outputs": [
    {
     "name": "stderr",
     "output_type": "stream",
     "text": [
      "/usr/local/lib/python3.7/dist-packages/torch/nn/functional.py:1698: UserWarning: nn.functional.tanh is deprecated. Use torch.tanh instead.\n",
      "  warnings.warn(\"nn.functional.tanh is deprecated. Use torch.tanh instead.\")\n",
      "/usr/local/lib/python3.7/dist-packages/torch/nn/modules/loss.py:528: UserWarning: Using a target size (torch.Size([64])) that is different to the input size (torch.Size([64, 1])). This will likely lead to incorrect results due to broadcasting. Please ensure they have the same size.\n",
      "  return F.mse_loss(input, target, reduction=self.reduction)\n",
      "/usr/local/lib/python3.7/dist-packages/torch/nn/modules/loss.py:528: UserWarning: Using a target size (torch.Size([15])) that is different to the input size (torch.Size([15, 1])). This will likely lead to incorrect results due to broadcasting. Please ensure they have the same size.\n",
      "  return F.mse_loss(input, target, reduction=self.reduction)\n"
     ]
    },
    {
     "name": "stdout",
     "output_type": "stream",
     "text": [
      "Epoch: 01 | Epoch Time 2m 34s\n",
      "\t Train Loss:  0.505 |  Val Loss:  0.497\n",
      "Epoch: 02 | Epoch Time 2m 34s\n",
      "\t Train Loss:  0.495 |  Val Loss:  0.491\n",
      "Epoch: 03 | Epoch Time 2m 34s\n",
      "\t Train Loss:  0.489 |  Val Loss:  0.483\n",
      "Epoch: 04 | Epoch Time 2m 33s\n",
      "\t Train Loss:  0.486 |  Val Loss:  0.476\n",
      "Epoch: 05 | Epoch Time 2m 33s\n",
      "\t Train Loss:  0.480 |  Val Loss:  0.470\n",
      "Epoch: 06 | Epoch Time 2m 33s\n",
      "\t Train Loss:  0.478 |  Val Loss:  0.466\n",
      "Epoch: 07 | Epoch Time 2m 34s\n",
      "\t Train Loss:  0.478 |  Val Loss:  0.464\n",
      "Epoch: 08 | Epoch Time 2m 35s\n",
      "\t Train Loss:  0.478 |  Val Loss:  0.459\n",
      "Epoch: 09 | Epoch Time 2m 34s\n",
      "\t Train Loss:  0.476 |  Val Loss:  0.459\n",
      "Epoch: 10 | Epoch Time 2m 35s\n",
      "\t Train Loss:  0.474 |  Val Loss:  0.456\n"
     ]
    }
   ],
   "source": [
    "#model1\n",
    "\n",
    "train_losses = []\n",
    "valid_losses = []\n",
    "\n",
    "for epoch in range(start_iter, n_epochs+start_iter):\n",
    "    start_time = time.time()\n",
    "\n",
    "    train_loss = train(model2, train_iter, optimizer2, criterion2)\n",
    "    valid_loss = evaluate(model2, valid_iter, criterion2)\n",
    "\n",
    "    end_time = time.time()\n",
    "    epoch_mins, epoch_secs = epoch_time(start_time, end_time)\n",
    "\n",
    "    if valid_loss < best_valid_loss:\n",
    "        best_valid_loss = valid_loss\n",
    "        torch.save({'model': model.state_dict(), 'iterator': epoch, 'loss': best_valid_loss}, 'checkpoint_vaccinate_model2.tar')\n",
    "\n",
    "    train_losses.append(train_loss)\n",
    "    valid_losses.append(valid_loss)\n",
    "\n",
    "    print(f'Epoch: {epoch:02} | Epoch Time {epoch_mins}m {epoch_secs}s')\n",
    "    print(f'\\t Train Loss: {train_loss: .3f} |  Val Loss: {valid_loss: .3f}')\n",
    "   # print(f'\\t  Train Acc: {train_acc * 100: .2f}% | Val Acc: {valid_acc * 100:.2f}%')"
   ]
  },
  {
   "cell_type": "code",
   "execution_count": null,
   "metadata": {
    "colab": {
     "background_save": true
    },
    "id": "7IlXz-ossXaC",
    "outputId": "63d5003b-12e6-49a0-866a-23ce74680cb4"
   },
   "outputs": [
    {
     "data": {
      "text/plain": [
       "<matplotlib.legend.Legend at 0x7fc409586150>"
      ]
     },
     "execution_count": 0,
     "metadata": {
      "tags": []
     },
     "output_type": "execute_result"
    },
    {
     "data": {
      "image/png": "[encoded data removed]",
      "text/plain": [
       "<Figure size 432x288 with 1 Axes>"
      ]
     },
     "metadata": {
      "tags": []
     },
     "output_type": "display_data"
    }
   ],
   "source": [
    "fig, ax = plt.subplots()\n",
    "#ax.plot(train_accs, label ='train_accs')\n",
    "#ax.plot(valid_accs, label ='valid_accs')\n",
    "ax.plot(train_losses, label = 'train_losses' )\n",
    "ax.plot(valid_losses, label = 'valid_losses')\n",
    "ax.set_title('Model2 lr -- 0.000001')\n",
    "ax.legend()"
   ]
  },
  {
   "cell_type": "code",
   "execution_count": null,
   "metadata": {
    "id": "o1VeX_5CslM-"
   },
   "outputs": [],
   "source": []
  },
  {
   "cell_type": "code",
   "execution_count": null,
   "metadata": {
    "id": "6ZWcl0aetxC_"
   },
   "outputs": [],
   "source": []
  }
 ],
 "metadata": {
  "colab": {
   "collapsed_sections": [],
   "name": "vaccinate_zindi.ipynb",
   "provenance": []
  },
  "kernelspec": {
   "display_name": "Python 3",
   "language": "python",
   "name": "python3"
  },
  "language_info": {
   "codemirror_mode": {
    "name": "ipython",
    "version": 3
   },
   "file_extension": ".py",
   "mimetype": "text/x-python",
   "name": "python",
   "nbconvert_exporter": "python",
   "pygments_lexer": "ipython3",
   "version": "3.9.1"
  }
 },
 "nbformat": 4,
 "nbformat_minor": 1
}
