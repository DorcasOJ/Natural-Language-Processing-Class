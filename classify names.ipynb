{
 "cells": [
  {
   "cell_type": "code",
   "execution_count": 1,
   "id": "negative-revelation",
   "metadata": {},
   "outputs": [],
   "source": [
    "from __future__ import unicode_literals\n",
    "import unicodedata\n",
    "import string\n",
    "import io\n",
    "import glob\n",
    "import os\n",
    "import random\n",
    "import math\n",
    "import time\n",
    "\n",
    "import torch\n",
    "import torch.nn as nn\n",
    "import torch.optim as optim"
   ]
  },
  {
   "cell_type": "code",
   "execution_count": null,
   "id": "dated-modern",
   "metadata": {},
   "outputs": [],
   "source": [
    "## Link to datasets -- "
   ]
  },
  {
   "cell_type": "code",
   "execution_count": 2,
   "id": "considered-zealand",
   "metadata": {},
   "outputs": [],
   "source": [
    "all_letters = string.ascii_letters + \".,;'\"\n",
    "n_letters= len(all_letters)\n",
    "\n",
    "def unicodeToAscii(s):\n",
    "    return ''.join(\n",
    "        c for c in unicodedata.normalize('NFD', s) \n",
    "        if unicodedata.category(c) != 'Mn' and c in all_letters\n",
    "    )\n",
    "\n",
    "def findFiles(path):\n",
    "    return glob.glob(path)\n",
    "\n",
    "def readLines(filename):\n",
    "    #lines = io.open(filename, encoding = 'utf-8').read().strip().split('\\n')\n",
    "    with open(filename, encoding = 'utf-8') as f:\n",
    "        lines = f.read().strip().split('\\n')\n",
    "    return [unicodeToAscii(line) for line in lines]"
   ]
  },
  {
   "cell_type": "code",
   "execution_count": 3,
   "id": "smart-attribute",
   "metadata": {},
   "outputs": [
    {
     "name": "stdout",
     "output_type": "stream",
     "text": [
      "Slusarski\n",
      "['./data/names/Arabic.txt', './data/names/English.txt', './data/names/Italian.txt', './data/names/Portuguese.txt', './data/names/German.txt', './data/names/Vietnamese.txt', './data/names/Dutch.txt', './data/names/Scottish.txt', './data/names/Spanish.txt', './data/names/Japanese.txt', './data/names/Czech.txt', './data/names/Irish.txt', './data/names/Chinese.txt', './data/names/French.txt', './data/names/Greek.txt', './data/names/Polish.txt', './data/names/Russian.txt', './data/names/Korean.txt']\n"
     ]
    }
   ],
   "source": [
    "print(unicodeToAscii('Ślusàrski'))\n",
    "print(findFiles('./data/names/*.txt'))"
   ]
  },
  {
   "cell_type": "code",
   "execution_count": 4,
   "id": "unlimited-average",
   "metadata": {},
   "outputs": [
    {
     "data": {
      "text/plain": [
       "'Arabic'"
      ]
     },
     "execution_count": 4,
     "metadata": {},
     "output_type": "execute_result"
    }
   ],
   "source": [
    "os.path.splitext(os.path.basename('./data/names/Arabic.txt'))[0]"
   ]
  },
  {
   "cell_type": "code",
   "execution_count": 5,
   "id": "distinct-cooling",
   "metadata": {},
   "outputs": [],
   "source": [
    "category_lines = {}\n",
    "all_categories = []\n",
    "\n",
    "for filename in findFiles('./data/names/*.txt'):\n",
    "    category = os.path.splitext(os.path.basename(filename))[0]\n",
    "    all_categories.append(category)\n",
    "    lines = readLines(filename)\n",
    "    category_lines[category] = lines\n",
    "    \n",
    "n_categories = len(all_categories)"
   ]
  },
  {
   "cell_type": "code",
   "execution_count": 6,
   "id": "ongoing-converter",
   "metadata": {},
   "outputs": [
    {
     "data": {
      "text/plain": [
       "['Ahn', 'Baik', 'Bang', 'Byon', 'Cha']"
      ]
     },
     "execution_count": 6,
     "metadata": {},
     "output_type": "execute_result"
    }
   ],
   "source": [
    "category_lines['Korean'][:5]"
   ]
  },
  {
   "cell_type": "code",
   "execution_count": 7,
   "id": "mediterranean-mayor",
   "metadata": {},
   "outputs": [],
   "source": [
    "def letterToIndex(letter):\n",
    "    return all_letters.find(letter)\n",
    "\n",
    "def letterToTensor(letter):\n",
    "    tensor = torch.zeros(1, n_letters)\n",
    "    tensor[0][letterToIndex(letter)] = 1\n",
    "    return tensor\n",
    "\n",
    "def lineToTensor(line):\n",
    "    tensor = torch.zeros(len(line), 1, n_letters)\n",
    "    for li, letter in enumerate(line):\n",
    "        tensor[li][0][letterToIndex(letter)] = 1\n",
    "    return tensor"
   ]
  },
  {
   "cell_type": "code",
   "execution_count": 8,
   "id": "expired-georgia",
   "metadata": {},
   "outputs": [
    {
     "name": "stdout",
     "output_type": "stream",
     "text": [
      "abcdefghijklmnopqrstuvwxyzABCDEFGHIJKLMNOPQRSTUVWXYZ.,;'\n",
      "26\n",
      "tensor([[0., 0., 0., 0., 0., 0., 0., 0., 0., 0., 0., 0., 0., 0., 0., 0., 0., 0.,\n",
      "         0., 0., 0., 0., 0., 0., 0., 0., 1., 0., 0., 0., 0., 0., 0., 0., 0., 0.,\n",
      "         0., 0., 0., 0., 0., 0., 0., 0., 0., 0., 0., 0., 0., 0., 0., 0., 0., 0.,\n",
      "         0., 0.]])\n",
      "tensor([[[0., 0., 0., 0., 0., 0., 0., 0., 0., 0., 0., 0., 0., 0., 0., 0., 0.,\n",
      "          0., 0., 0., 0., 0., 0., 0., 0., 0., 1., 0., 0., 0., 0., 0., 0., 0.,\n",
      "          0., 0., 0., 0., 0., 0., 0., 0., 0., 0., 0., 0., 0., 0., 0., 0., 0.,\n",
      "          0., 0., 0., 0., 0.]],\n",
      "\n",
      "        [[0., 0., 0., 0., 0., 0., 0., 0., 0., 0., 0., 0., 0., 0., 0., 1., 0.,\n",
      "          0., 0., 0., 0., 0., 0., 0., 0., 0., 0., 0., 0., 0., 0., 0., 0., 0.,\n",
      "          0., 0., 0., 0., 0., 0., 0., 0., 0., 0., 0., 0., 0., 0., 0., 0., 0.,\n",
      "          0., 0., 0., 0., 0.]],\n",
      "\n",
      "        [[0., 0., 0., 0., 0., 0., 0., 0., 0., 0., 0., 0., 0., 0., 0., 0., 0.,\n",
      "          0., 0., 1., 0., 0., 0., 0., 0., 0., 0., 0., 0., 0., 0., 0., 0., 0.,\n",
      "          0., 0., 0., 0., 0., 0., 0., 0., 0., 0., 0., 0., 0., 0., 0., 0., 0.,\n",
      "          0., 0., 0., 0., 0.]]])\n",
      "torch.Size([3, 1, 56])\n"
     ]
    }
   ],
   "source": [
    "print(all_letters)\n",
    "print(letterToIndex('A'))\n",
    "print(letterToTensor('A'))\n",
    "print(lineToTensor('Apt'))\n",
    "print(lineToTensor('Apt').size())"
   ]
  },
  {
   "cell_type": "code",
   "execution_count": 9,
   "id": "vanilla-disclaimer",
   "metadata": {},
   "outputs": [],
   "source": [
    "# model\n",
    "\n",
    "class NET(nn.Module):\n",
    "    def __init__(self, input_size, hidden_size, output_size):\n",
    "        super(NET, self).__init__()\n",
    "        self.hidden_size = hidden_size\n",
    "        self.i2h = nn.Linear(input_size + hidden_size, hidden_size)\n",
    "        self.i2o = nn.Linear(input_size + hidden_size, output_size)\n",
    "        self.softmax = nn.LogSoftmax(dim=1)\n",
    "        \n",
    "    def forward(self, input, hidden):\n",
    "        combined = torch.cat((input, hidden), 1)\n",
    "        hidden = self.i2h(combined)\n",
    "        output = self.i2o(combined)\n",
    "        output = self.softmax(output)\n",
    "        return output, hidden\n",
    "    \n",
    "    def initHidden(self):\n",
    "        return torch.zeros(1, self.hidden_size)\n",
    "    \n",
    "n_hidden = 128\n",
    "net = NET(n_letters, n_hidden, n_categories)"
   ]
  },
  {
   "cell_type": "code",
   "execution_count": 10,
   "id": "alert-sender",
   "metadata": {},
   "outputs": [
    {
     "name": "stdout",
     "output_type": "stream",
     "text": [
      "torch.Size([5, 1, 56])\n",
      "tensor([[-2.8600, -2.8223, -2.9674, -2.8477, -2.9768, -3.0065, -2.8982, -2.9482,\n",
      "         -2.7647, -2.9053, -2.9234, -2.8563, -2.7916, -2.9062, -2.8842, -2.8819,\n",
      "         -2.9142, -2.9053]], grad_fn=<LogSoftmaxBackward>)\n",
      "torch.return_types.topk(\n",
      "values=tensor([[-2.7647]], grad_fn=<TopkBackward>),\n",
      "indices=tensor([[8]]))\n"
     ]
    }
   ],
   "source": [
    "#modelling example\n",
    "\n",
    "input = lineToTensor('Jones')\n",
    "print(input.size())\n",
    "hidden = torch.zeros(1, n_hidden)\n",
    "output, next_hidden = net(input[0], hidden)\n",
    "print(output)\n",
    "print(output.topk(1))"
   ]
  },
  {
   "cell_type": "code",
   "execution_count": 11,
   "id": "extended-nashville",
   "metadata": {},
   "outputs": [
    {
     "name": "stdout",
     "output_type": "stream",
     "text": [
      "('Spanish', 8)\n"
     ]
    }
   ],
   "source": [
    "def categoryFromOutput(output):\n",
    "    top_n, top_i = output.topk(1)\n",
    "    category_i = top_i[0].item()\n",
    "    return all_categories[category_i], category_i\n",
    "    \n",
    "print(categoryFromOutput(output))"
   ]
  },
  {
   "cell_type": "code",
   "execution_count": 12,
   "id": "detailed-catholic",
   "metadata": {},
   "outputs": [
    {
     "name": "stdout",
     "output_type": "stream",
     "text": [
      "category = Russian / line = Glazunov\n",
      "category = French / line = Herriot\n",
      "category = Arabic / line = Khoury\n",
      "category = German / line = Rier\n",
      "category = Dutch / line = Kranz\n",
      "category = Irish / line = Ruaidh\n",
      "category = Scottish / line = Mckay\n",
      "category = Portuguese / line = Fernandes\n",
      "category = Czech / line = Maly\n",
      "category = Russian / line = Tur\n"
     ]
    }
   ],
   "source": [
    "def randomChoice(l):\n",
    "    return l[random.randint(0, len(l)-1)]\n",
    "\n",
    "def randomTraining():\n",
    "    category = randomChoice(all_categories)\n",
    "    line = randomChoice(category_lines[category])\n",
    "    category_tensor = torch.tensor([all_categories.index(category)], dtype = torch.long)\n",
    "    line_tensor = lineToTensor(line)\n",
    "    return category, line, category_tensor, line_tensor\n",
    "\n",
    "for i in range(10):\n",
    "    category, line, category_tensor, line_tensor = randomTraining()\n",
    "    print(f'category = {category} / line = {line}')"
   ]
  },
  {
   "cell_type": "code",
   "execution_count": 13,
   "id": "noticed-portable",
   "metadata": {},
   "outputs": [],
   "source": [
    "criterion = nn.NLLLoss()\n",
    "learning_rate = 0.005 \n",
    "\n",
    "def train(category_tensor, line_tensor):\n",
    "    hidden = net.initHidden()\n",
    "    net.zero_grad()\n",
    "    \n",
    "    for i in range(line_tensor.size()[0]):\n",
    "        output, hidden = net(line_tensor[i], hidden)\n",
    "        \n",
    "    loss = criterion(output, category_tensor)\n",
    "    loss.backward()\n",
    "    \n",
    "    # add parameter gradient and lr\n",
    "    for p in net.parameters():\n",
    "        p.data.add_(p.grad.data, alpha = -learning_rate)\n",
    "        \n",
    "    return output, loss.item()\n",
    "\n",
    "def timeSince(since):\n",
    "    now = time.time()\n",
    "    secs = now - since\n",
    "    mins = math.floor(secs/60)\n",
    "    #secs -= mins * 60\n",
    "    secs_left = secs - (mins * 60)\n",
    "    return '%dm %ds'% (mins, secs_left)"
   ]
  },
  {
   "cell_type": "code",
   "execution_count": 14,
   "id": "appreciated-introduction",
   "metadata": {},
   "outputs": [
    {
     "name": "stdout",
     "output_type": "stream",
     "text": [
      "Epoch 0 0.0 (0m 0s)         | Loss 2.8611 | Line Morcos / Spanish ✗ (Arabic)\n",
      "Epoch 5000 5.0 (0m 39s)         | Loss 2.7338 | Line Sylvester / Dutch ✗ (English)\n",
      "Epoch 10000 10.0 (1m 4s)         | Loss 2.7475 | Line Dufour / Arabic ✗ (French)\n",
      "Epoch 15000 15.0 (1m 26s)         | Loss 3.0825 | Line Hunter / German ✗ (Scottish)\n",
      "Epoch 20000 20.0 (1m 49s)         | Loss 2.1722 | Line Abadi / Italian ✗ (Arabic)\n",
      "Epoch 25000 25.0 (2m 12s)         | Loss 1.8134 | Line Duan / Vietnamese ✗ (Chinese)\n",
      "Epoch 30000 30.0 (2m 35s)         | Loss 0.7955 | Line Dubicki / Polish ✓\n",
      "Epoch 35000 35.0 (3m 0s)         | Loss 1.6145 | Line Almeida / Czech ✗ (Portuguese)\n",
      "Epoch 40000 40.0 (3m 22s)         | Loss 2.3070 | Line Armistead / Scottish ✗ (French)\n",
      "Epoch 45000 45.0 (3m 45s)         | Loss 0.0306 | Line Kikkawa / Japanese ✓\n",
      "Epoch 50000 50.0 (4m 8s)         | Loss 0.6059 | Line Barros / Portuguese ✓\n",
      "Epoch 55000 55.00000000000001 (4m 38s)         | Loss 1.0983 | Line Anikin / Russian ✓\n",
      "Epoch 60000 60.0 (5m 4s)         | Loss 0.6431 | Line Xun / Chinese ✓\n",
      "Epoch 65000 65.0 (5m 27s)         | Loss 1.4442 | Line Taylor / Scottish ✓\n",
      "Epoch 70000 70.0 (5m 50s)         | Loss 2.7044 | Line Ross / Greek ✗ (Scottish)\n",
      "Epoch 75000 75.0 (6m 12s)         | Loss 1.3515 | Line Adleroff / Russian ✓\n",
      "Epoch 80000 80.0 (6m 36s)         | Loss 3.0666 | Line Rademacher / French ✗ (German)\n",
      "Epoch 85000 85.0 (6m 59s)         | Loss 0.8413 | Line Saller / German ✓\n",
      "Epoch 90000 90.0 (7m 21s)         | Loss 3.6030 | Line Hodgkinson / Korean ✗ (English)\n",
      "Epoch 95000 95.0 (7m 42s)         | Loss 0.1857 | Line Yuan / Chinese ✓\n",
      "Epoch 100000 100.0 (8m 4s)         | Loss 1.3743 | Line Crawford / English ✗ (Scottish)\n"
     ]
    }
   ],
   "source": [
    "epochs = 100000\n",
    "print_every = 5000\n",
    "plot_every = 1000\n",
    "\n",
    "current_loss = 0\n",
    "all_losses = []\n",
    "start = time.time()\n",
    "\n",
    "for epoch in range(epochs+1):\n",
    "    category, line, category_tensor, line_tensor = randomTraining()\n",
    "    output, loss = train(category_tensor, line_tensor)\n",
    "    current_loss += loss\n",
    "    \n",
    "    if epoch % print_every == 0:\n",
    "        country, country_i = categoryFromOutput(output)\n",
    "        correct = '✓' if country == category else '✗ (%s)' % category\n",
    "        print(f'Epoch {epoch} {epoch/ epochs * 100} ({timeSince(start)})\\\n",
    "         | Loss {loss:.4f} | Line {line} / {country} {correct}')\n",
    "        \n",
    "    if epoch % plot_every == 0:\n",
    "        all_losses.append(current_loss / plot_every)\n",
    "        current_loss = 0"
   ]
  },
  {
   "cell_type": "code",
   "execution_count": 15,
   "id": "protective-patrol",
   "metadata": {},
   "outputs": [
    {
     "data": {
      "text/plain": [
       "[<matplotlib.lines.Line2D at 0x7fc963539370>]"
      ]
     },
     "execution_count": 15,
     "metadata": {},
     "output_type": "execute_result"
    },
    {
     "data": {
      "image/png": "[encoded data removed]",
      "text/plain": [
       "<Figure size 432x288 with 1 Axes>"
      ]
     },
     "metadata": {
      "needs_background": "light"
     },
     "output_type": "display_data"
    }
   ],
   "source": [
    "import matplotlib.pyplot as plt\n",
    "\n",
    "plt.plot(all_losses)"
   ]
  },
  {
   "cell_type": "code",
   "execution_count": 19,
   "id": "fixed-apparel",
   "metadata": {},
   "outputs": [],
   "source": [
    "#predict\n",
    "\n",
    "def predict(input_line, n_predictions =3):\n",
    "    print('\\n> ', input_line)\n",
    "    with torch.no_grad():\n",
    "        hidden = net.initHidden()\n",
    "        line_tensor = lineToTensor(input_line)\n",
    "        \n",
    "        for i in range(line_tensor.size()[0]):\n",
    "            output, hidden = net(line_tensor[i], hidden)\n",
    "        topv, topi = output.topk(n_predictions, 1, True)\n",
    "        predictions = []\n",
    "        \n",
    "        for i in range(n_predictions):\n",
    "            value = topv[0][i].item()\n",
    "            category_index = topi[0][i].item()\n",
    "            print('(%.2f) %s' % (value, all_categories[category_index]))\n",
    "            #predictions.append([value, all_categories[category_index]])"
   ]
  },
  {
   "cell_type": "code",
   "execution_count": 20,
   "id": "nearby-aggregate",
   "metadata": {},
   "outputs": [
    {
     "name": "stdout",
     "output_type": "stream",
     "text": [
      "\n",
      ">  Satoshi\n",
      "(-0.94) Japanese\n",
      "(-1.12) Italian\n",
      "(-1.90) Arabic\n",
      "None\n",
      "\n",
      ">  Jones\n",
      "(-1.42) Dutch\n",
      "(-1.57) English\n",
      "(-1.99) Spanish\n",
      "None\n",
      "\n",
      ">  Dovesky\n",
      "(-0.38) Russian\n",
      "(-1.49) Czech\n",
      "(-2.68) English\n",
      "None\n",
      "\n",
      ">  Jackson\n",
      "(-0.49) Scottish\n",
      "(-1.30) English\n",
      "(-2.92) Russian\n",
      "None\n"
     ]
    }
   ],
   "source": [
    "print(predict('Satoshi'))\n",
    "print(predict('Jones'))\n",
    "print(predict('Dovesky'))\n",
    "print(predict('Jackson'))"
   ]
  },
  {
   "cell_type": "code",
   "execution_count": null,
   "id": "entitled-latitude",
   "metadata": {},
   "outputs": [],
   "source": []
  }
 ],
 "metadata": {
  "kernelspec": {
   "display_name": "Python 3",
   "language": "python",
   "name": "python3"
  },
  "language_info": {
   "codemirror_mode": {
    "name": "ipython",
    "version": 3
   },
   "file_extension": ".py",
   "mimetype": "text/x-python",
   "name": "python",
   "nbconvert_exporter": "python",
   "pygments_lexer": "ipython3",
   "version": "3.9.1"
  }
 },
 "nbformat": 4,
 "nbformat_minor": 5
}
